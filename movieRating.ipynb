{
 "cells": [
  {
   "cell_type": "markdown",
   "metadata": {},
   "source": [
    "# Import Libraries"
   ]
  },
  {
   "cell_type": "code",
   "execution_count": 1,
   "metadata": {
    "collapsed": true
   },
   "outputs": [],
   "source": [
    "import pandas as pd\n",
    "import matplotlib.pyplot as plt\n",
    "import seaborn as sns\n",
    "import warnings\n",
    "warnings.filterwarnings('ignore')\n",
    "%matplotlib inline"
   ]
  },
  {
   "cell_type": "markdown",
   "metadata": {},
   "source": [
    "# Load the data file"
   ]
  },
  {
   "cell_type": "code",
   "execution_count": 2,
   "metadata": {
    "collapsed": true
   },
   "outputs": [],
   "source": [
    "data = pd.read_excel(\"movies_originalData.xlsx\")"
   ]
  },
  {
   "cell_type": "markdown",
   "metadata": {},
   "source": [
    "# Descriptive Statistics"
   ]
  },
  {
   "cell_type": "code",
   "execution_count": 4,
   "metadata": {
    "scrolled": false
   },
   "outputs": [
    {
     "data": {
      "text/html": [
       "<div>\n",
       "<style>\n",
       "    .dataframe thead tr:only-child th {\n",
       "        text-align: right;\n",
       "    }\n",
       "\n",
       "    .dataframe thead th {\n",
       "        text-align: left;\n",
       "    }\n",
       "\n",
       "    .dataframe tbody tr th {\n",
       "        vertical-align: top;\n",
       "    }\n",
       "</style>\n",
       "<table border=\"1\" class=\"dataframe\">\n",
       "  <thead>\n",
       "    <tr style=\"text-align: right;\">\n",
       "      <th></th>\n",
       "      <th>Year</th>\n",
       "      <th>RottenTomatoes_raw</th>\n",
       "      <th>RottenTomatoes_User</th>\n",
       "      <th>Metacritic</th>\n",
       "      <th>Metacritic_User</th>\n",
       "      <th>IMDB</th>\n",
       "      <th>Fandango_Stars</th>\n",
       "      <th>Fandango_Ratingvalue</th>\n",
       "      <th>RT_norm</th>\n",
       "      <th>RT_user_norm</th>\n",
       "      <th>Metacritic_norm</th>\n",
       "      <th>Metacritic_user_nom</th>\n",
       "      <th>IMDB_norm</th>\n",
       "      <th>RT_user_vote_count</th>\n",
       "      <th>Metacritic_user_vote_count</th>\n",
       "      <th>IMDB_user_vote_count</th>\n",
       "      <th>Fandango_votes</th>\n",
       "    </tr>\n",
       "  </thead>\n",
       "  <tbody>\n",
       "    <tr>\n",
       "      <th>count</th>\n",
       "      <td>146.000000</td>\n",
       "      <td>146.000000</td>\n",
       "      <td>146.000000</td>\n",
       "      <td>146.000000</td>\n",
       "      <td>146.000000</td>\n",
       "      <td>146.000000</td>\n",
       "      <td>146.000000</td>\n",
       "      <td>146.000000</td>\n",
       "      <td>146.000000</td>\n",
       "      <td>146.000000</td>\n",
       "      <td>146.000000</td>\n",
       "      <td>146.000000</td>\n",
       "      <td>146.000000</td>\n",
       "      <td>146.000000</td>\n",
       "      <td>146.000000</td>\n",
       "      <td>146.000000</td>\n",
       "      <td>146.000000</td>\n",
       "    </tr>\n",
       "    <tr>\n",
       "      <th>mean</th>\n",
       "      <td>2014.883562</td>\n",
       "      <td>60.849315</td>\n",
       "      <td>63.876712</td>\n",
       "      <td>58.808219</td>\n",
       "      <td>6.519178</td>\n",
       "      <td>6.736986</td>\n",
       "      <td>4.089041</td>\n",
       "      <td>3.845205</td>\n",
       "      <td>3.042466</td>\n",
       "      <td>3.193836</td>\n",
       "      <td>2.940411</td>\n",
       "      <td>3.259589</td>\n",
       "      <td>3.368493</td>\n",
       "      <td>36674.657534</td>\n",
       "      <td>185.705479</td>\n",
       "      <td>42846.205479</td>\n",
       "      <td>3848.787671</td>\n",
       "    </tr>\n",
       "    <tr>\n",
       "      <th>std</th>\n",
       "      <td>0.321854</td>\n",
       "      <td>30.168799</td>\n",
       "      <td>20.024430</td>\n",
       "      <td>19.517389</td>\n",
       "      <td>1.510712</td>\n",
       "      <td>0.958736</td>\n",
       "      <td>0.540386</td>\n",
       "      <td>0.502831</td>\n",
       "      <td>1.508440</td>\n",
       "      <td>1.001222</td>\n",
       "      <td>0.975869</td>\n",
       "      <td>0.755356</td>\n",
       "      <td>0.479368</td>\n",
       "      <td>70607.124607</td>\n",
       "      <td>316.606515</td>\n",
       "      <td>67406.509171</td>\n",
       "      <td>6357.778617</td>\n",
       "    </tr>\n",
       "    <tr>\n",
       "      <th>min</th>\n",
       "      <td>2014.000000</td>\n",
       "      <td>5.000000</td>\n",
       "      <td>20.000000</td>\n",
       "      <td>13.000000</td>\n",
       "      <td>2.400000</td>\n",
       "      <td>4.000000</td>\n",
       "      <td>3.000000</td>\n",
       "      <td>2.700000</td>\n",
       "      <td>0.250000</td>\n",
       "      <td>1.000000</td>\n",
       "      <td>0.650000</td>\n",
       "      <td>1.200000</td>\n",
       "      <td>2.000000</td>\n",
       "      <td>289.000000</td>\n",
       "      <td>4.000000</td>\n",
       "      <td>243.000000</td>\n",
       "      <td>35.000000</td>\n",
       "    </tr>\n",
       "    <tr>\n",
       "      <th>25%</th>\n",
       "      <td>2015.000000</td>\n",
       "      <td>31.250000</td>\n",
       "      <td>50.000000</td>\n",
       "      <td>43.500000</td>\n",
       "      <td>5.700000</td>\n",
       "      <td>6.300000</td>\n",
       "      <td>3.500000</td>\n",
       "      <td>3.500000</td>\n",
       "      <td>1.562500</td>\n",
       "      <td>2.500000</td>\n",
       "      <td>2.175000</td>\n",
       "      <td>2.850000</td>\n",
       "      <td>3.150000</td>\n",
       "      <td>4861.750000</td>\n",
       "      <td>33.250000</td>\n",
       "      <td>5627.000000</td>\n",
       "      <td>222.250000</td>\n",
       "    </tr>\n",
       "    <tr>\n",
       "      <th>50%</th>\n",
       "      <td>2015.000000</td>\n",
       "      <td>63.500000</td>\n",
       "      <td>66.500000</td>\n",
       "      <td>59.000000</td>\n",
       "      <td>6.850000</td>\n",
       "      <td>6.900000</td>\n",
       "      <td>4.000000</td>\n",
       "      <td>3.900000</td>\n",
       "      <td>3.175000</td>\n",
       "      <td>3.325000</td>\n",
       "      <td>2.950000</td>\n",
       "      <td>3.425000</td>\n",
       "      <td>3.450000</td>\n",
       "      <td>14629.500000</td>\n",
       "      <td>72.500000</td>\n",
       "      <td>19103.000000</td>\n",
       "      <td>1446.000000</td>\n",
       "    </tr>\n",
       "    <tr>\n",
       "      <th>75%</th>\n",
       "      <td>2015.000000</td>\n",
       "      <td>89.000000</td>\n",
       "      <td>81.000000</td>\n",
       "      <td>75.000000</td>\n",
       "      <td>7.500000</td>\n",
       "      <td>7.400000</td>\n",
       "      <td>4.500000</td>\n",
       "      <td>4.200000</td>\n",
       "      <td>4.450000</td>\n",
       "      <td>4.050000</td>\n",
       "      <td>3.750000</td>\n",
       "      <td>3.750000</td>\n",
       "      <td>3.700000</td>\n",
       "      <td>26516.000000</td>\n",
       "      <td>168.500000</td>\n",
       "      <td>45185.750000</td>\n",
       "      <td>4439.500000</td>\n",
       "    </tr>\n",
       "    <tr>\n",
       "      <th>max</th>\n",
       "      <td>2015.000000</td>\n",
       "      <td>100.000000</td>\n",
       "      <td>94.000000</td>\n",
       "      <td>94.000000</td>\n",
       "      <td>9.600000</td>\n",
       "      <td>8.600000</td>\n",
       "      <td>5.000000</td>\n",
       "      <td>4.800000</td>\n",
       "      <td>5.000000</td>\n",
       "      <td>4.700000</td>\n",
       "      <td>4.700000</td>\n",
       "      <td>4.800000</td>\n",
       "      <td>4.300000</td>\n",
       "      <td>432099.000000</td>\n",
       "      <td>2375.000000</td>\n",
       "      <td>334164.000000</td>\n",
       "      <td>34846.000000</td>\n",
       "    </tr>\n",
       "  </tbody>\n",
       "</table>\n",
       "</div>"
      ],
      "text/plain": [
       "              Year  RottenTomatoes_raw  RottenTomatoes_User  Metacritic  \\\n",
       "count   146.000000          146.000000           146.000000  146.000000   \n",
       "mean   2014.883562           60.849315            63.876712   58.808219   \n",
       "std       0.321854           30.168799            20.024430   19.517389   \n",
       "min    2014.000000            5.000000            20.000000   13.000000   \n",
       "25%    2015.000000           31.250000            50.000000   43.500000   \n",
       "50%    2015.000000           63.500000            66.500000   59.000000   \n",
       "75%    2015.000000           89.000000            81.000000   75.000000   \n",
       "max    2015.000000          100.000000            94.000000   94.000000   \n",
       "\n",
       "       Metacritic_User        IMDB  Fandango_Stars  Fandango_Ratingvalue  \\\n",
       "count       146.000000  146.000000      146.000000            146.000000   \n",
       "mean          6.519178    6.736986        4.089041              3.845205   \n",
       "std           1.510712    0.958736        0.540386              0.502831   \n",
       "min           2.400000    4.000000        3.000000              2.700000   \n",
       "25%           5.700000    6.300000        3.500000              3.500000   \n",
       "50%           6.850000    6.900000        4.000000              3.900000   \n",
       "75%           7.500000    7.400000        4.500000              4.200000   \n",
       "max           9.600000    8.600000        5.000000              4.800000   \n",
       "\n",
       "          RT_norm  RT_user_norm  Metacritic_norm  Metacritic_user_nom  \\\n",
       "count  146.000000    146.000000       146.000000           146.000000   \n",
       "mean     3.042466      3.193836         2.940411             3.259589   \n",
       "std      1.508440      1.001222         0.975869             0.755356   \n",
       "min      0.250000      1.000000         0.650000             1.200000   \n",
       "25%      1.562500      2.500000         2.175000             2.850000   \n",
       "50%      3.175000      3.325000         2.950000             3.425000   \n",
       "75%      4.450000      4.050000         3.750000             3.750000   \n",
       "max      5.000000      4.700000         4.700000             4.800000   \n",
       "\n",
       "        IMDB_norm  RT_user_vote_count  Metacritic_user_vote_count  \\\n",
       "count  146.000000          146.000000                  146.000000   \n",
       "mean     3.368493        36674.657534                  185.705479   \n",
       "std      0.479368        70607.124607                  316.606515   \n",
       "min      2.000000          289.000000                    4.000000   \n",
       "25%      3.150000         4861.750000                   33.250000   \n",
       "50%      3.450000        14629.500000                   72.500000   \n",
       "75%      3.700000        26516.000000                  168.500000   \n",
       "max      4.300000       432099.000000                 2375.000000   \n",
       "\n",
       "       IMDB_user_vote_count  Fandango_votes  \n",
       "count            146.000000      146.000000  \n",
       "mean           42846.205479     3848.787671  \n",
       "std            67406.509171     6357.778617  \n",
       "min              243.000000       35.000000  \n",
       "25%             5627.000000      222.250000  \n",
       "50%            19103.000000     1446.000000  \n",
       "75%            45185.750000     4439.500000  \n",
       "max           334164.000000    34846.000000  "
      ]
     },
     "execution_count": 4,
     "metadata": {},
     "output_type": "execute_result"
    }
   ],
   "source": [
    "data.describe()"
   ]
  },
  {
   "cell_type": "markdown",
   "metadata": {},
   "source": [
    "# Normal Distribution"
   ]
  },
  {
   "cell_type": "code",
   "execution_count": 5,
   "metadata": {},
   "outputs": [
    {
     "data": {
      "image/png": "[encoded data removed]",
      "text/plain": [
       "<matplotlib.figure.Figure at 0x114b79be0>"
      ]
     },
     "metadata": {},
     "output_type": "display_data"
    }
   ],
   "source": [
    "#histograms\n",
    "sns.distplot(data['Fandango_Stars'], axlabel = 'Fandango stars rating');"
   ]
  },
  {
   "cell_type": "code",
   "execution_count": 6,
   "metadata": {},
   "outputs": [
    {
     "name": "stdout",
     "output_type": "stream",
     "text": [
      "Skewness: -0.394975\n",
      "Kurtosis: -0.595315\n"
     ]
    }
   ],
   "source": [
    "print(\"Skewness: %f\" % data['Fandango_Stars'].skew())\n",
    "print(\"Kurtosis: %f\" % data['Fandango_Stars'].kurt())"
   ]
  },
  {
   "cell_type": "code",
   "execution_count": 7,
   "metadata": {},
   "outputs": [
    {
     "data": {
      "image/png": "[encoded data removed]",
      "text/plain": [
       "<matplotlib.figure.Figure at 0x117990908>"
      ]
     },
     "metadata": {},
     "output_type": "display_data"
    }
   ],
   "source": [
    "sns.distplot(data['Fandango_Ratingvalue']);"
   ]
  },
  {
   "cell_type": "code",
   "execution_count": 8,
   "metadata": {},
   "outputs": [
    {
     "name": "stdout",
     "output_type": "stream",
     "text": [
      "Skewness: -0.360322\n",
      "Kurtosis: -0.661380\n"
     ]
    }
   ],
   "source": [
    "print(\"Skewness: %f\" % data['Fandango_Ratingvalue'].skew())\n",
    "print(\"Kurtosis: %f\" % data['Fandango_Ratingvalue'].kurt())"
   ]
  },
  {
   "cell_type": "code",
   "execution_count": 9,
   "metadata": {},
   "outputs": [
    {
     "data": {
      "image/png": "[encoded data removed]",
      "text/plain": [
       "<matplotlib.figure.Figure at 0x117971e48>"
      ]
     },
     "metadata": {},
     "output_type": "display_data"
    }
   ],
   "source": [
    "sns.distplot(data['RT_norm'], axlabel = 'Rotten Tomatoes Rating');"
   ]
  },
  {
   "cell_type": "code",
   "execution_count": 10,
   "metadata": {},
   "outputs": [
    {
     "name": "stdout",
     "output_type": "stream",
     "text": [
      "Skewness: -0.334194\n",
      "Kurtosis: -1.285778\n"
     ]
    }
   ],
   "source": [
    "print(\"Skewness: %f\" % data['RT_norm'].skew())\n",
    "print(\"Kurtosis: %f\" % data['RT_norm'].kurt())"
   ]
  },
  {
   "cell_type": "code",
   "execution_count": 11,
   "metadata": {},
   "outputs": [
    {
     "data": {
      "image/png": "[encoded data removed]",
      "text/plain": [
       "<matplotlib.figure.Figure at 0x117971e10>"
      ]
     },
     "metadata": {},
     "output_type": "display_data"
    }
   ],
   "source": [
    "sns.distplot(data['RT_user_norm']);"
   ]
  },
  {
   "cell_type": "code",
   "execution_count": 12,
   "metadata": {},
   "outputs": [
    {
     "name": "stdout",
     "output_type": "stream",
     "text": [
      "Skewness: -0.434695\n",
      "Kurtosis: -0.890307\n"
     ]
    }
   ],
   "source": [
    "print(\"Skewness: %f\" % data['RT_user_norm'].skew())\n",
    "print(\"Kurtosis: %f\" % data['RT_user_norm'].kurt())"
   ]
  },
  {
   "cell_type": "code",
   "execution_count": 13,
   "metadata": {},
   "outputs": [
    {
     "data": {
      "image/png": "[encoded data removed]",
      "text/plain": [
       "<matplotlib.figure.Figure at 0x117abbb70>"
      ]
     },
     "metadata": {},
     "output_type": "display_data"
    }
   ],
   "source": [
    "sns.distplot(data['Metacritic_norm'], axlabel = 'Metacritic Rating');"
   ]
  },
  {
   "cell_type": "code",
   "execution_count": 14,
   "metadata": {},
   "outputs": [
    {
     "name": "stdout",
     "output_type": "stream",
     "text": [
      "Skewness: -0.123598\n",
      "Kurtosis: -0.949969\n"
     ]
    }
   ],
   "source": [
    "print(\"Skewness: %f\" % data['Metacritic_norm'].skew())\n",
    "print(\"Kurtosis: %f\" % data['Metacritic_norm'].kurt())"
   ]
  },
  {
   "cell_type": "code",
   "execution_count": 15,
   "metadata": {},
   "outputs": [
    {
     "data": {
      "image/png": "[encoded data removed]",
      "text/plain": [
       "<matplotlib.figure.Figure at 0x117997240>"
      ]
     },
     "metadata": {},
     "output_type": "display_data"
    }
   ],
   "source": [
    "sns.distplot(data['Metacritic_user_nom']);"
   ]
  },
  {
   "cell_type": "code",
   "execution_count": 16,
   "metadata": {},
   "outputs": [
    {
     "name": "stdout",
     "output_type": "stream",
     "text": [
      "Skewness: -0.723498\n",
      "Kurtosis: 0.134305\n"
     ]
    }
   ],
   "source": [
    "print(\"Skewness: %f\" % data['Metacritic_user_nom'].skew())\n",
    "print(\"Kurtosis: %f\" % data['Metacritic_user_nom'].kurt())"
   ]
  },
  {
   "cell_type": "code",
   "execution_count": 17,
   "metadata": {},
   "outputs": [
    {
     "data": {
      "image/png": "[encoded data removed]",
      "text/plain": [
       "<matplotlib.figure.Figure at 0x117abbef0>"
      ]
     },
     "metadata": {},
     "output_type": "display_data"
    }
   ],
   "source": [
    "sns.distplot(data['IMDB_norm'], axlabel = 'IMDB Rating');"
   ]
  },
  {
   "cell_type": "code",
   "execution_count": 18,
   "metadata": {},
   "outputs": [
    {
     "name": "stdout",
     "output_type": "stream",
     "text": [
      "Skewness: -0.620852\n",
      "Kurtosis: 0.085837\n"
     ]
    }
   ],
   "source": [
    "print(\"Skewness: %f\" % data['IMDB_norm'].skew())\n",
    "print(\"Kurtosis: %f\" % data['IMDB_norm'].kurt())"
   ]
  },
  {
   "cell_type": "markdown",
   "metadata": {},
   "source": [
    "# Indentifying the correlation between the variables"
   ]
  },
  {
   "cell_type": "code",
   "execution_count": 19,
   "metadata": {},
   "outputs": [
    {
     "data": {
      "text/html": [
       "<div>\n",
       "<style>\n",
       "    .dataframe thead tr:only-child th {\n",
       "        text-align: right;\n",
       "    }\n",
       "\n",
       "    .dataframe thead th {\n",
       "        text-align: left;\n",
       "    }\n",
       "\n",
       "    .dataframe tbody tr th {\n",
       "        vertical-align: top;\n",
       "    }\n",
       "</style>\n",
       "<table border=\"1\" class=\"dataframe\">\n",
       "  <thead>\n",
       "    <tr style=\"text-align: right;\">\n",
       "      <th></th>\n",
       "      <th>Year</th>\n",
       "      <th>RottenTomatoes_raw</th>\n",
       "      <th>RottenTomatoes_User</th>\n",
       "      <th>Metacritic</th>\n",
       "      <th>Metacritic_User</th>\n",
       "      <th>IMDB</th>\n",
       "      <th>Fandango_Stars</th>\n",
       "      <th>Fandango_Ratingvalue</th>\n",
       "      <th>RT_norm</th>\n",
       "      <th>RT_user_norm</th>\n",
       "      <th>Metacritic_norm</th>\n",
       "      <th>Metacritic_user_nom</th>\n",
       "      <th>IMDB_norm</th>\n",
       "      <th>RT_user_vote_count</th>\n",
       "      <th>Metacritic_user_vote_count</th>\n",
       "      <th>IMDB_user_vote_count</th>\n",
       "      <th>Fandango_votes</th>\n",
       "    </tr>\n",
       "  </thead>\n",
       "  <tbody>\n",
       "    <tr>\n",
       "      <th>Year</th>\n",
       "      <td>1.000000</td>\n",
       "      <td>-0.224840</td>\n",
       "      <td>-0.144562</td>\n",
       "      <td>-0.283537</td>\n",
       "      <td>-0.155652</td>\n",
       "      <td>-0.153571</td>\n",
       "      <td>-0.019283</td>\n",
       "      <td>0.007180</td>\n",
       "      <td>-0.224840</td>\n",
       "      <td>-0.144562</td>\n",
       "      <td>-0.283537</td>\n",
       "      <td>-0.155652</td>\n",
       "      <td>-0.153571</td>\n",
       "      <td>-0.196246</td>\n",
       "      <td>-0.117762</td>\n",
       "      <td>-0.232127</td>\n",
       "      <td>-0.037780</td>\n",
       "    </tr>\n",
       "    <tr>\n",
       "      <th>RottenTomatoes_raw</th>\n",
       "      <td>-0.224840</td>\n",
       "      <td>1.000000</td>\n",
       "      <td>0.781440</td>\n",
       "      <td>0.957360</td>\n",
       "      <td>0.754296</td>\n",
       "      <td>0.779671</td>\n",
       "      <td>0.293988</td>\n",
       "      <td>0.290047</td>\n",
       "      <td>1.000000</td>\n",
       "      <td>0.781440</td>\n",
       "      <td>0.957360</td>\n",
       "      <td>0.754296</td>\n",
       "      <td>0.779671</td>\n",
       "      <td>0.092521</td>\n",
       "      <td>0.111325</td>\n",
       "      <td>0.107083</td>\n",
       "      <td>0.000117</td>\n",
       "    </tr>\n",
       "    <tr>\n",
       "      <th>RottenTomatoes_User</th>\n",
       "      <td>-0.144562</td>\n",
       "      <td>0.781440</td>\n",
       "      <td>1.000000</td>\n",
       "      <td>0.690998</td>\n",
       "      <td>0.687132</td>\n",
       "      <td>0.895297</td>\n",
       "      <td>0.703683</td>\n",
       "      <td>0.724329</td>\n",
       "      <td>0.781440</td>\n",
       "      <td>1.000000</td>\n",
       "      <td>0.690998</td>\n",
       "      <td>0.687132</td>\n",
       "      <td>0.895297</td>\n",
       "      <td>0.200106</td>\n",
       "      <td>0.198320</td>\n",
       "      <td>0.221776</td>\n",
       "      <td>0.148359</td>\n",
       "    </tr>\n",
       "    <tr>\n",
       "      <th>Metacritic</th>\n",
       "      <td>-0.283537</td>\n",
       "      <td>0.957360</td>\n",
       "      <td>0.690998</td>\n",
       "      <td>1.000000</td>\n",
       "      <td>0.723459</td>\n",
       "      <td>0.727298</td>\n",
       "      <td>0.181124</td>\n",
       "      <td>0.177204</td>\n",
       "      <td>0.957360</td>\n",
       "      <td>0.690998</td>\n",
       "      <td>1.000000</td>\n",
       "      <td>0.723459</td>\n",
       "      <td>0.727298</td>\n",
       "      <td>0.092513</td>\n",
       "      <td>0.138184</td>\n",
       "      <td>0.114507</td>\n",
       "      <td>-0.001126</td>\n",
       "    </tr>\n",
       "    <tr>\n",
       "      <th>Metacritic_User</th>\n",
       "      <td>-0.155652</td>\n",
       "      <td>0.754296</td>\n",
       "      <td>0.687132</td>\n",
       "      <td>0.723459</td>\n",
       "      <td>1.000000</td>\n",
       "      <td>0.756265</td>\n",
       "      <td>0.337497</td>\n",
       "      <td>0.336945</td>\n",
       "      <td>0.754296</td>\n",
       "      <td>0.687132</td>\n",
       "      <td>0.723459</td>\n",
       "      <td>1.000000</td>\n",
       "      <td>0.756265</td>\n",
       "      <td>0.094115</td>\n",
       "      <td>0.121478</td>\n",
       "      <td>0.112580</td>\n",
       "      <td>-0.066155</td>\n",
       "    </tr>\n",
       "    <tr>\n",
       "      <th>IMDB</th>\n",
       "      <td>-0.153571</td>\n",
       "      <td>0.779671</td>\n",
       "      <td>0.895297</td>\n",
       "      <td>0.727298</td>\n",
       "      <td>0.756265</td>\n",
       "      <td>1.000000</td>\n",
       "      <td>0.587295</td>\n",
       "      <td>0.600354</td>\n",
       "      <td>0.779671</td>\n",
       "      <td>0.895297</td>\n",
       "      <td>0.727298</td>\n",
       "      <td>0.756265</td>\n",
       "      <td>1.000000</td>\n",
       "      <td>0.200152</td>\n",
       "      <td>0.205573</td>\n",
       "      <td>0.230058</td>\n",
       "      <td>0.047570</td>\n",
       "    </tr>\n",
       "    <tr>\n",
       "      <th>Fandango_Stars</th>\n",
       "      <td>-0.019283</td>\n",
       "      <td>0.293988</td>\n",
       "      <td>0.703683</td>\n",
       "      <td>0.181124</td>\n",
       "      <td>0.337497</td>\n",
       "      <td>0.587295</td>\n",
       "      <td>1.000000</td>\n",
       "      <td>0.959709</td>\n",
       "      <td>0.293988</td>\n",
       "      <td>0.703683</td>\n",
       "      <td>0.181124</td>\n",
       "      <td>0.337497</td>\n",
       "      <td>0.587295</td>\n",
       "      <td>0.279690</td>\n",
       "      <td>0.231390</td>\n",
       "      <td>0.305955</td>\n",
       "      <td>0.356693</td>\n",
       "    </tr>\n",
       "    <tr>\n",
       "      <th>Fandango_Ratingvalue</th>\n",
       "      <td>0.007180</td>\n",
       "      <td>0.290047</td>\n",
       "      <td>0.724329</td>\n",
       "      <td>0.177204</td>\n",
       "      <td>0.336945</td>\n",
       "      <td>0.600354</td>\n",
       "      <td>0.959709</td>\n",
       "      <td>1.000000</td>\n",
       "      <td>0.290047</td>\n",
       "      <td>0.724329</td>\n",
       "      <td>0.177204</td>\n",
       "      <td>0.336945</td>\n",
       "      <td>0.600354</td>\n",
       "      <td>0.285297</td>\n",
       "      <td>0.248686</td>\n",
       "      <td>0.317770</td>\n",
       "      <td>0.407960</td>\n",
       "    </tr>\n",
       "    <tr>\n",
       "      <th>RT_norm</th>\n",
       "      <td>-0.224840</td>\n",
       "      <td>1.000000</td>\n",
       "      <td>0.781440</td>\n",
       "      <td>0.957360</td>\n",
       "      <td>0.754296</td>\n",
       "      <td>0.779671</td>\n",
       "      <td>0.293988</td>\n",
       "      <td>0.290047</td>\n",
       "      <td>1.000000</td>\n",
       "      <td>0.781440</td>\n",
       "      <td>0.957360</td>\n",
       "      <td>0.754296</td>\n",
       "      <td>0.779671</td>\n",
       "      <td>0.092521</td>\n",
       "      <td>0.111325</td>\n",
       "      <td>0.107083</td>\n",
       "      <td>0.000117</td>\n",
       "    </tr>\n",
       "    <tr>\n",
       "      <th>RT_user_norm</th>\n",
       "      <td>-0.144562</td>\n",
       "      <td>0.781440</td>\n",
       "      <td>1.000000</td>\n",
       "      <td>0.690998</td>\n",
       "      <td>0.687132</td>\n",
       "      <td>0.895297</td>\n",
       "      <td>0.703683</td>\n",
       "      <td>0.724329</td>\n",
       "      <td>0.781440</td>\n",
       "      <td>1.000000</td>\n",
       "      <td>0.690998</td>\n",
       "      <td>0.687132</td>\n",
       "      <td>0.895297</td>\n",
       "      <td>0.200106</td>\n",
       "      <td>0.198320</td>\n",
       "      <td>0.221776</td>\n",
       "      <td>0.148359</td>\n",
       "    </tr>\n",
       "    <tr>\n",
       "      <th>Metacritic_norm</th>\n",
       "      <td>-0.283537</td>\n",
       "      <td>0.957360</td>\n",
       "      <td>0.690998</td>\n",
       "      <td>1.000000</td>\n",
       "      <td>0.723459</td>\n",
       "      <td>0.727298</td>\n",
       "      <td>0.181124</td>\n",
       "      <td>0.177204</td>\n",
       "      <td>0.957360</td>\n",
       "      <td>0.690998</td>\n",
       "      <td>1.000000</td>\n",
       "      <td>0.723459</td>\n",
       "      <td>0.727298</td>\n",
       "      <td>0.092513</td>\n",
       "      <td>0.138184</td>\n",
       "      <td>0.114507</td>\n",
       "      <td>-0.001126</td>\n",
       "    </tr>\n",
       "    <tr>\n",
       "      <th>Metacritic_user_nom</th>\n",
       "      <td>-0.155652</td>\n",
       "      <td>0.754296</td>\n",
       "      <td>0.687132</td>\n",
       "      <td>0.723459</td>\n",
       "      <td>1.000000</td>\n",
       "      <td>0.756265</td>\n",
       "      <td>0.337497</td>\n",
       "      <td>0.336945</td>\n",
       "      <td>0.754296</td>\n",
       "      <td>0.687132</td>\n",
       "      <td>0.723459</td>\n",
       "      <td>1.000000</td>\n",
       "      <td>0.756265</td>\n",
       "      <td>0.094115</td>\n",
       "      <td>0.121478</td>\n",
       "      <td>0.112580</td>\n",
       "      <td>-0.066155</td>\n",
       "    </tr>\n",
       "    <tr>\n",
       "      <th>IMDB_norm</th>\n",
       "      <td>-0.153571</td>\n",
       "      <td>0.779671</td>\n",
       "      <td>0.895297</td>\n",
       "      <td>0.727298</td>\n",
       "      <td>0.756265</td>\n",
       "      <td>1.000000</td>\n",
       "      <td>0.587295</td>\n",
       "      <td>0.600354</td>\n",
       "      <td>0.779671</td>\n",
       "      <td>0.895297</td>\n",
       "      <td>0.727298</td>\n",
       "      <td>0.756265</td>\n",
       "      <td>1.000000</td>\n",
       "      <td>0.200152</td>\n",
       "      <td>0.205573</td>\n",
       "      <td>0.230058</td>\n",
       "      <td>0.047570</td>\n",
       "    </tr>\n",
       "    <tr>\n",
       "      <th>RT_user_vote_count</th>\n",
       "      <td>-0.196246</td>\n",
       "      <td>0.092521</td>\n",
       "      <td>0.200106</td>\n",
       "      <td>0.092513</td>\n",
       "      <td>0.094115</td>\n",
       "      <td>0.200152</td>\n",
       "      <td>0.279690</td>\n",
       "      <td>0.285297</td>\n",
       "      <td>0.092521</td>\n",
       "      <td>0.200106</td>\n",
       "      <td>0.092513</td>\n",
       "      <td>0.094115</td>\n",
       "      <td>0.200152</td>\n",
       "      <td>1.000000</td>\n",
       "      <td>0.843921</td>\n",
       "      <td>0.936491</td>\n",
       "      <td>0.617636</td>\n",
       "    </tr>\n",
       "    <tr>\n",
       "      <th>Metacritic_user_vote_count</th>\n",
       "      <td>-0.117762</td>\n",
       "      <td>0.111325</td>\n",
       "      <td>0.198320</td>\n",
       "      <td>0.138184</td>\n",
       "      <td>0.121478</td>\n",
       "      <td>0.205573</td>\n",
       "      <td>0.231390</td>\n",
       "      <td>0.248686</td>\n",
       "      <td>0.111325</td>\n",
       "      <td>0.198320</td>\n",
       "      <td>0.138184</td>\n",
       "      <td>0.121478</td>\n",
       "      <td>0.205573</td>\n",
       "      <td>0.843921</td>\n",
       "      <td>1.000000</td>\n",
       "      <td>0.880635</td>\n",
       "      <td>0.652863</td>\n",
       "    </tr>\n",
       "    <tr>\n",
       "      <th>IMDB_user_vote_count</th>\n",
       "      <td>-0.232127</td>\n",
       "      <td>0.107083</td>\n",
       "      <td>0.221776</td>\n",
       "      <td>0.114507</td>\n",
       "      <td>0.112580</td>\n",
       "      <td>0.230058</td>\n",
       "      <td>0.305955</td>\n",
       "      <td>0.317770</td>\n",
       "      <td>0.107083</td>\n",
       "      <td>0.221776</td>\n",
       "      <td>0.114507</td>\n",
       "      <td>0.112580</td>\n",
       "      <td>0.230058</td>\n",
       "      <td>0.936491</td>\n",
       "      <td>0.880635</td>\n",
       "      <td>1.000000</td>\n",
       "      <td>0.695963</td>\n",
       "    </tr>\n",
       "    <tr>\n",
       "      <th>Fandango_votes</th>\n",
       "      <td>-0.037780</td>\n",
       "      <td>0.000117</td>\n",
       "      <td>0.148359</td>\n",
       "      <td>-0.001126</td>\n",
       "      <td>-0.066155</td>\n",
       "      <td>0.047570</td>\n",
       "      <td>0.356693</td>\n",
       "      <td>0.407960</td>\n",
       "      <td>0.000117</td>\n",
       "      <td>0.148359</td>\n",
       "      <td>-0.001126</td>\n",
       "      <td>-0.066155</td>\n",
       "      <td>0.047570</td>\n",
       "      <td>0.617636</td>\n",
       "      <td>0.652863</td>\n",
       "      <td>0.695963</td>\n",
       "      <td>1.000000</td>\n",
       "    </tr>\n",
       "  </tbody>\n",
       "</table>\n",
       "</div>"
      ],
      "text/plain": [
       "                                Year  RottenTomatoes_raw  RottenTomatoes_User  \\\n",
       "Year                        1.000000           -0.224840            -0.144562   \n",
       "RottenTomatoes_raw         -0.224840            1.000000             0.781440   \n",
       "RottenTomatoes_User        -0.144562            0.781440             1.000000   \n",
       "Metacritic                 -0.283537            0.957360             0.690998   \n",
       "Metacritic_User            -0.155652            0.754296             0.687132   \n",
       "IMDB                       -0.153571            0.779671             0.895297   \n",
       "Fandango_Stars             -0.019283            0.293988             0.703683   \n",
       "Fandango_Ratingvalue        0.007180            0.290047             0.724329   \n",
       "RT_norm                    -0.224840            1.000000             0.781440   \n",
       "RT_user_norm               -0.144562            0.781440             1.000000   \n",
       "Metacritic_norm            -0.283537            0.957360             0.690998   \n",
       "Metacritic_user_nom        -0.155652            0.754296             0.687132   \n",
       "IMDB_norm                  -0.153571            0.779671             0.895297   \n",
       "RT_user_vote_count         -0.196246            0.092521             0.200106   \n",
       "Metacritic_user_vote_count -0.117762            0.111325             0.198320   \n",
       "IMDB_user_vote_count       -0.232127            0.107083             0.221776   \n",
       "Fandango_votes             -0.037780            0.000117             0.148359   \n",
       "\n",
       "                            Metacritic  Metacritic_User      IMDB  \\\n",
       "Year                         -0.283537        -0.155652 -0.153571   \n",
       "RottenTomatoes_raw            0.957360         0.754296  0.779671   \n",
       "RottenTomatoes_User           0.690998         0.687132  0.895297   \n",
       "Metacritic                    1.000000         0.723459  0.727298   \n",
       "Metacritic_User               0.723459         1.000000  0.756265   \n",
       "IMDB                          0.727298         0.756265  1.000000   \n",
       "Fandango_Stars                0.181124         0.337497  0.587295   \n",
       "Fandango_Ratingvalue          0.177204         0.336945  0.600354   \n",
       "RT_norm                       0.957360         0.754296  0.779671   \n",
       "RT_user_norm                  0.690998         0.687132  0.895297   \n",
       "Metacritic_norm               1.000000         0.723459  0.727298   \n",
       "Metacritic_user_nom           0.723459         1.000000  0.756265   \n",
       "IMDB_norm                     0.727298         0.756265  1.000000   \n",
       "RT_user_vote_count            0.092513         0.094115  0.200152   \n",
       "Metacritic_user_vote_count    0.138184         0.121478  0.205573   \n",
       "IMDB_user_vote_count          0.114507         0.112580  0.230058   \n",
       "Fandango_votes               -0.001126        -0.066155  0.047570   \n",
       "\n",
       "                            Fandango_Stars  Fandango_Ratingvalue   RT_norm  \\\n",
       "Year                             -0.019283              0.007180 -0.224840   \n",
       "RottenTomatoes_raw                0.293988              0.290047  1.000000   \n",
       "RottenTomatoes_User               0.703683              0.724329  0.781440   \n",
       "Metacritic                        0.181124              0.177204  0.957360   \n",
       "Metacritic_User                   0.337497              0.336945  0.754296   \n",
       "IMDB                              0.587295              0.600354  0.779671   \n",
       "Fandango_Stars                    1.000000              0.959709  0.293988   \n",
       "Fandango_Ratingvalue              0.959709              1.000000  0.290047   \n",
       "RT_norm                           0.293988              0.290047  1.000000   \n",
       "RT_user_norm                      0.703683              0.724329  0.781440   \n",
       "Metacritic_norm                   0.181124              0.177204  0.957360   \n",
       "Metacritic_user_nom               0.337497              0.336945  0.754296   \n",
       "IMDB_norm                         0.587295              0.600354  0.779671   \n",
       "RT_user_vote_count                0.279690              0.285297  0.092521   \n",
       "Metacritic_user_vote_count        0.231390              0.248686  0.111325   \n",
       "IMDB_user_vote_count              0.305955              0.317770  0.107083   \n",
       "Fandango_votes                    0.356693              0.407960  0.000117   \n",
       "\n",
       "                            RT_user_norm  Metacritic_norm  \\\n",
       "Year                           -0.144562        -0.283537   \n",
       "RottenTomatoes_raw              0.781440         0.957360   \n",
       "RottenTomatoes_User             1.000000         0.690998   \n",
       "Metacritic                      0.690998         1.000000   \n",
       "Metacritic_User                 0.687132         0.723459   \n",
       "IMDB                            0.895297         0.727298   \n",
       "Fandango_Stars                  0.703683         0.181124   \n",
       "Fandango_Ratingvalue            0.724329         0.177204   \n",
       "RT_norm                         0.781440         0.957360   \n",
       "RT_user_norm                    1.000000         0.690998   \n",
       "Metacritic_norm                 0.690998         1.000000   \n",
       "Metacritic_user_nom             0.687132         0.723459   \n",
       "IMDB_norm                       0.895297         0.727298   \n",
       "RT_user_vote_count              0.200106         0.092513   \n",
       "Metacritic_user_vote_count      0.198320         0.138184   \n",
       "IMDB_user_vote_count            0.221776         0.114507   \n",
       "Fandango_votes                  0.148359        -0.001126   \n",
       "\n",
       "                            Metacritic_user_nom  IMDB_norm  \\\n",
       "Year                                  -0.155652  -0.153571   \n",
       "RottenTomatoes_raw                     0.754296   0.779671   \n",
       "RottenTomatoes_User                    0.687132   0.895297   \n",
       "Metacritic                             0.723459   0.727298   \n",
       "Metacritic_User                        1.000000   0.756265   \n",
       "IMDB                                   0.756265   1.000000   \n",
       "Fandango_Stars                         0.337497   0.587295   \n",
       "Fandango_Ratingvalue                   0.336945   0.600354   \n",
       "RT_norm                                0.754296   0.779671   \n",
       "RT_user_norm                           0.687132   0.895297   \n",
       "Metacritic_norm                        0.723459   0.727298   \n",
       "Metacritic_user_nom                    1.000000   0.756265   \n",
       "IMDB_norm                              0.756265   1.000000   \n",
       "RT_user_vote_count                     0.094115   0.200152   \n",
       "Metacritic_user_vote_count             0.121478   0.205573   \n",
       "IMDB_user_vote_count                   0.112580   0.230058   \n",
       "Fandango_votes                        -0.066155   0.047570   \n",
       "\n",
       "                            RT_user_vote_count  Metacritic_user_vote_count  \\\n",
       "Year                                 -0.196246                   -0.117762   \n",
       "RottenTomatoes_raw                    0.092521                    0.111325   \n",
       "RottenTomatoes_User                   0.200106                    0.198320   \n",
       "Metacritic                            0.092513                    0.138184   \n",
       "Metacritic_User                       0.094115                    0.121478   \n",
       "IMDB                                  0.200152                    0.205573   \n",
       "Fandango_Stars                        0.279690                    0.231390   \n",
       "Fandango_Ratingvalue                  0.285297                    0.248686   \n",
       "RT_norm                               0.092521                    0.111325   \n",
       "RT_user_norm                          0.200106                    0.198320   \n",
       "Metacritic_norm                       0.092513                    0.138184   \n",
       "Metacritic_user_nom                   0.094115                    0.121478   \n",
       "IMDB_norm                             0.200152                    0.205573   \n",
       "RT_user_vote_count                    1.000000                    0.843921   \n",
       "Metacritic_user_vote_count            0.843921                    1.000000   \n",
       "IMDB_user_vote_count                  0.936491                    0.880635   \n",
       "Fandango_votes                        0.617636                    0.652863   \n",
       "\n",
       "                            IMDB_user_vote_count  Fandango_votes  \n",
       "Year                                   -0.232127       -0.037780  \n",
       "RottenTomatoes_raw                      0.107083        0.000117  \n",
       "RottenTomatoes_User                     0.221776        0.148359  \n",
       "Metacritic                              0.114507       -0.001126  \n",
       "Metacritic_User                         0.112580       -0.066155  \n",
       "IMDB                                    0.230058        0.047570  \n",
       "Fandango_Stars                          0.305955        0.356693  \n",
       "Fandango_Ratingvalue                    0.317770        0.407960  \n",
       "RT_norm                                 0.107083        0.000117  \n",
       "RT_user_norm                            0.221776        0.148359  \n",
       "Metacritic_norm                         0.114507       -0.001126  \n",
       "Metacritic_user_nom                     0.112580       -0.066155  \n",
       "IMDB_norm                               0.230058        0.047570  \n",
       "RT_user_vote_count                      0.936491        0.617636  \n",
       "Metacritic_user_vote_count              0.880635        0.652863  \n",
       "IMDB_user_vote_count                    1.000000        0.695963  \n",
       "Fandango_votes                          0.695963        1.000000  "
      ]
     },
     "execution_count": 19,
     "metadata": {},
     "output_type": "execute_result"
    }
   ],
   "source": [
    "data.corr()"
   ]
  },
  {
   "cell_type": "code",
   "execution_count": 21,
   "metadata": {},
   "outputs": [
    {
     "data": {
      "image/png": "[encoded data removed]",
      "text/plain": [
       "<matplotlib.figure.Figure at 0x117c70780>"
      ]
     },
     "metadata": {},
     "output_type": "display_data"
    }
   ],
   "source": [
    "# Correlation visualization\n",
    "corrmat = data.corr()\n",
    "f, ax = plt.subplots(figsize=(10, 10))\n",
    "sns.heatmap(corrmat, vmax=.8, square=True, cmap=\"YlGnBu\", linecolor='White');"
   ]
  }
 ],
 "metadata": {
  "kernelspec": {
   "display_name": "Python 3",
   "language": "python",
   "name": "python3"
  },
  "language_info": {
   "codemirror_mode": {
    "name": "ipython",
    "version": 3
   },
   "file_extension": ".py",
   "mimetype": "text/x-python",
   "name": "python",
   "nbconvert_exporter": "python",
   "pygments_lexer": "ipython3",
   "version": "3.6.3"
  }
 },
 "nbformat": 4,
 "nbformat_minor": 2
}
